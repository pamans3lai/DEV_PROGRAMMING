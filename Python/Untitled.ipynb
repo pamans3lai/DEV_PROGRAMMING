{
 "cells": [
  {
   "cell_type": "code",
   "execution_count": 3,
   "id": "461b421b-6b07-4df3-be43-bfa6705e0a08",
   "metadata": {},
   "outputs": [
    {
     "ename": "Error",
     "evalue": "error: invalid string\nexpected `\"`, `'`\n  --> Cargo.toml:11:76\n   |\n11 |     plotters = { git = \"https://github.com/38/plotters\", default_features =\n   |                                                                            ^\n   |",
     "output_type": "error",
     "traceback": [
      "\u001b[31mError:\u001b[0m error: invalid string",
      "expected `\"`, `'`",
      "  --> Cargo.toml:11:76",
      "   |",
      "11 |     plotters = { git = \"https://github.com/38/plotters\", default_features =",
      "   |                                                                            ^",
      "   |"
     ]
    }
   ],
   "source": [
    ":dep plotters = { git = \"https://github.com/38/plotters\", default_features =\n",
    "false, features = [\"evcxr\", \"line_series\"] }\n",
    "extern crate plotters;\n",
    "use plotters::prelude::*;\n",
    "use plotters::series::*;\n",
    "let figure = evcxr_figure((640, 480), |root| {\n",
    "root.fill(&WHITE);\n",
    "let mut chart = ChartBuilder::on(&root)\n",
    ".caption(\"y=x^2\", (\"Arial\", 50).into_font())\n",
    ".margin(5)\n",
    ".x_label_area_size(30)\n",
    ".y_label_area_size(30)\n",
    ".build_ranged(-1f32..1f32, -0.1f32..1f32)?;\n",
    "chart.configure_mesh().draw()?;\n",
    "chart.draw_series(LineSeries::new(\n",
    "(-50..=50).map(|x| x as f32 / 50.0).map(|x| (x, x * x)),\n",
    "&RED,\n",
    ")).unwrap()\n",
    ".label(\"y = x^2\")\n",
    ".legend(|(x,y)| PathElement::new(vec![(x,y), (x + 20,y)], &RED));\n",
    "chart.configure_series_labels()\n",
    ".background_style(&WHITE.mix(0.8))\n",
    ".border_style(&BLACK)\n",
    ".draw()?;\n",
    "Ok(())\n",
    "});\n",
    "figure"
   ]
  },
  {
   "cell_type": "code",
   "execution_count": null,
   "id": "f3800687-5e78-421a-af1c-f399ff98f472",
   "metadata": {},
   "outputs": [],
   "source": []
  },
  {
   "cell_type": "code",
   "execution_count": null,
   "id": "58b99980-b784-40b6-99b9-965f734ade57",
   "metadata": {},
   "outputs": [],
   "source": []
  }
 ],
 "metadata": {
  "kernelspec": {
   "display_name": "Rust",
   "language": "rust",
   "name": "rust"
  },
  "language_info": {
   "codemirror_mode": "rust",
   "file_extension": ".rs",
   "mimetype": "text/rust",
   "name": "Rust",
   "pygment_lexer": "rust",
   "version": ""
  }
 },
 "nbformat": 4,
 "nbformat_minor": 5
}
